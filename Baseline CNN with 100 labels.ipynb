{
  "nbformat": 4,
  "nbformat_minor": 0,
  "metadata": {
    "colab": {
      "name": "CNN FashionMNIST.ipynb",
      "provenance": []
    },
    "kernelspec": {
      "name": "python3",
      "display_name": "Python 3"
    },
    "accelerator": "GPU"
  },
  "cells": [
    {
      "cell_type": "code",
      "metadata": {
        "id": "ah_SHYAkbKvM",
        "colab_type": "code",
        "colab": {
          "base_uri": "https://localhost:8080/",
          "height": 34
        },
        "outputId": "29ce0cff-8666-4f31-b18d-4a779ff6bed6"
      },
      "source": [
        "# import the necessary packages\n",
        "from keras.models import Sequential\n",
        "from keras.layers.normalization import BatchNormalization\n",
        "from keras.layers.convolutional import Conv2D\n",
        "from keras.layers.convolutional import MaxPooling2D\n",
        "from keras.layers.core import Activation\n",
        "from keras.layers.core import Flatten\n",
        "from keras.layers.core import Dropout\n",
        "from keras.layers.core import Dense\n",
        "from keras import backend as K\n",
        "\n",
        "from sklearn.metrics import classification_report\n",
        "from keras.optimizers import SGD,Adam\n",
        "from keras.datasets import mnist\n",
        "from keras.utils import np_utils\n",
        "from keras import backend as K\n",
        "from imutils import build_montages\n",
        "import matplotlib.pyplot as plt\n",
        "import numpy as np\n",
        "import cv2\n",
        "\n"
      ],
      "execution_count": 3,
      "outputs": [
        {
          "output_type": "stream",
          "text": [
            "Using TensorFlow backend.\n"
          ],
          "name": "stderr"
        }
      ]
    },
    {
      "cell_type": "code",
      "metadata": {
        "id": "Da1wYlIGbJKS",
        "colab_type": "code",
        "colab": {}
      },
      "source": [
        "width=28\n",
        "height=28\n",
        "depth=1\n",
        "classes=10\n",
        "chanDim = -1\n",
        " \n",
        "model = Sequential()\n",
        "inputShape = (height, width, depth)\n",
        "# first CONV => RELU => CONV => RELU => POOL layer set\n",
        "\n",
        "model.add(Conv2D(32, (3, 3), padding=\"same\",\n",
        "input_shape=inputShape))\n",
        "model.add(Activation(\"relu\"))\n",
        "model.add(BatchNormalization(axis=chanDim))\n",
        "\n",
        "model.add(Conv2D(32, (3, 3), padding=\"same\"))\n",
        "model.add(Activation(\"relu\"))\n",
        "model.add(BatchNormalization(axis=chanDim))\n",
        "model.add(MaxPooling2D(pool_size=(2, 2)))\n",
        "model.add(Dropout(0.25))\n",
        "\n",
        "# second CONV => RELU => CONV => RELU => POOL layer set\n",
        "model.add(Conv2D(64, (3, 3), padding=\"same\"))\n",
        "model.add(Activation(\"relu\"))\n",
        "model.add(BatchNormalization(axis=chanDim))\n",
        "\n",
        "model.add(Conv2D(64, (3, 3), padding=\"same\"))\n",
        "model.add(Activation(\"relu\"))\n",
        "model.add(BatchNormalization(axis=chanDim))\n",
        "model.add(MaxPooling2D(pool_size=(2, 2)))\n",
        "model.add(Dropout(0.25))\n",
        "\n",
        "# first (and only) set of FC => RELU layers\n",
        "model.add(Flatten())\n",
        "model.add(Dense(512))\n",
        "model.add(Activation(\"relu\"))\n",
        "model.add(BatchNormalization())\n",
        "model.add(Dropout(0.5))\n",
        " \n",
        "# softmax classifier\n",
        "model.add(Dense(classes))\n",
        "model.add(Activation(\"softmax\"))\n"
      ],
      "execution_count": 0,
      "outputs": []
    },
    {
      "cell_type": "code",
      "metadata": {
        "id": "RGVGHB1ekxby",
        "colab_type": "code",
        "outputId": "32961cf9-0441-43c7-a18b-a555a2448713",
        "colab": {
          "base_uri": "https://localhost:8080/",
          "height": 935
        }
      },
      "source": [
        "model.summary()"
      ],
      "execution_count": 5,
      "outputs": [
        {
          "output_type": "stream",
          "text": [
            "Model: \"sequential_1\"\n",
            "_________________________________________________________________\n",
            "Layer (type)                 Output Shape              Param #   \n",
            "=================================================================\n",
            "conv2d_1 (Conv2D)            (None, 28, 28, 32)        320       \n",
            "_________________________________________________________________\n",
            "activation_1 (Activation)    (None, 28, 28, 32)        0         \n",
            "_________________________________________________________________\n",
            "batch_normalization_1 (Batch (None, 28, 28, 32)        128       \n",
            "_________________________________________________________________\n",
            "conv2d_2 (Conv2D)            (None, 28, 28, 32)        9248      \n",
            "_________________________________________________________________\n",
            "activation_2 (Activation)    (None, 28, 28, 32)        0         \n",
            "_________________________________________________________________\n",
            "batch_normalization_2 (Batch (None, 28, 28, 32)        128       \n",
            "_________________________________________________________________\n",
            "max_pooling2d_1 (MaxPooling2 (None, 14, 14, 32)        0         \n",
            "_________________________________________________________________\n",
            "dropout_1 (Dropout)          (None, 14, 14, 32)        0         \n",
            "_________________________________________________________________\n",
            "conv2d_3 (Conv2D)            (None, 14, 14, 64)        18496     \n",
            "_________________________________________________________________\n",
            "activation_3 (Activation)    (None, 14, 14, 64)        0         \n",
            "_________________________________________________________________\n",
            "batch_normalization_3 (Batch (None, 14, 14, 64)        256       \n",
            "_________________________________________________________________\n",
            "conv2d_4 (Conv2D)            (None, 14, 14, 64)        36928     \n",
            "_________________________________________________________________\n",
            "activation_4 (Activation)    (None, 14, 14, 64)        0         \n",
            "_________________________________________________________________\n",
            "batch_normalization_4 (Batch (None, 14, 14, 64)        256       \n",
            "_________________________________________________________________\n",
            "max_pooling2d_2 (MaxPooling2 (None, 7, 7, 64)          0         \n",
            "_________________________________________________________________\n",
            "dropout_2 (Dropout)          (None, 7, 7, 64)          0         \n",
            "_________________________________________________________________\n",
            "flatten_1 (Flatten)          (None, 3136)              0         \n",
            "_________________________________________________________________\n",
            "dense_1 (Dense)              (None, 512)               1606144   \n",
            "_________________________________________________________________\n",
            "activation_5 (Activation)    (None, 512)               0         \n",
            "_________________________________________________________________\n",
            "batch_normalization_5 (Batch (None, 512)               2048      \n",
            "_________________________________________________________________\n",
            "dropout_3 (Dropout)          (None, 512)               0         \n",
            "_________________________________________________________________\n",
            "dense_2 (Dense)              (None, 10)                5130      \n",
            "_________________________________________________________________\n",
            "activation_6 (Activation)    (None, 10)                0         \n",
            "=================================================================\n",
            "Total params: 1,679,082\n",
            "Trainable params: 1,677,674\n",
            "Non-trainable params: 1,408\n",
            "_________________________________________________________________\n"
          ],
          "name": "stdout"
        }
      ]
    },
    {
      "cell_type": "code",
      "metadata": {
        "id": "pBXzc7fVcAUn",
        "colab_type": "code",
        "colab": {}
      },
      "source": [
        "NUM_EPOCHS = 25\n",
        "INIT_LR = .01\n",
        "BS = 25"
      ],
      "execution_count": 0,
      "outputs": []
    },
    {
      "cell_type": "code",
      "metadata": {
        "id": "IRsK9RQ9b_yj",
        "colab_type": "code",
        "outputId": "590df176-fa8f-47ae-e922-cf432bc7e46c",
        "colab": {
          "base_uri": "https://localhost:8080/",
          "height": 68
        }
      },
      "source": [
        "# grab the Fashion MNIST dataset (if this is your first time running\n",
        "# this the dataset will be automatically downloaded)\n",
        "print(\"[INFO] loading Fashion MNIST...\")\n",
        "((trainX, trainY), (testX, testY)) = mnist.load_data()\n",
        " \n",
        "\n",
        "# if we are using \"channels first\" ordering, then reshape the design\n",
        "# matrix such that the matrix is:\n",
        "# \tnum_samples x depth x rows x columns\n",
        "if K.image_data_format() == \"channels_first\":\n",
        "\ttrainX = trainX.reshape((trainX.shape[0], 1, 28, 28))\n",
        "\ttestX = testX.reshape((testX.shape[0], 1, 28, 28))\n",
        " \n",
        "# otherwise, we are using \"channels last\" ordering, so the design\n",
        "# matrix shape should be: num_samples x rows x columns x depth\n",
        "else:\n",
        "\ttrainX = trainX.reshape((trainX.shape[0], 28, 28, 1))\n",
        "\ttestX = testX.reshape((testX.shape[0], 28, 28, 1))\n",
        " \n",
        "trainX =  trainX[:100]\n",
        "trainY = trainY[:100]\n"
      ],
      "execution_count": 7,
      "outputs": [
        {
          "output_type": "stream",
          "text": [
            "[INFO] loading Fashion MNIST...\n",
            "Downloading data from https://s3.amazonaws.com/img-datasets/mnist.npz\n",
            "11493376/11490434 [==============================] - 2s 0us/step\n"
          ],
          "name": "stdout"
        }
      ]
    },
    {
      "cell_type": "code",
      "metadata": {
        "id": "pgPNNqSXcHHz",
        "colab_type": "code",
        "colab": {}
      },
      "source": [
        "# scale data to the range of [0, 1]\n",
        "trainX = trainX.astype(\"float32\") / 255.0\n",
        "testX = testX.astype(\"float32\") / 255.0\n",
        " \n",
        "# one-hot encode the training and testing labels\n",
        "trainY = np_utils.to_categorical(trainY, 10)\n",
        "testY = np_utils.to_categorical(testY, 10)\n",
        " \n",
        "# initialize the label names\n",
        "labelNames = [\"0\",\"1\",\"2\",\"3\",\"4\",\"5\",\"6\",\"7\",\"8\",\"9\"]\n"
      ],
      "execution_count": 0,
      "outputs": []
    },
    {
      "cell_type": "code",
      "metadata": {
        "id": "gB6emYMGcTBA",
        "colab_type": "code",
        "outputId": "4d7aba04-a036-4885-c0d2-8db943ed44b7",
        "colab": {
          "base_uri": "https://localhost:8080/",
          "height": 918
        }
      },
      "source": [
        "# initialize the optimizer and model\n",
        "print(\"[INFO] compiling model...\")\n",
        "opt = SGD(lr=INIT_LR, momentum=0.9, decay=INIT_LR / NUM_EPOCHS)\n",
        "\n",
        "model.compile(loss=\"categorical_crossentropy\", optimizer=opt,\n",
        "\tmetrics=[\"accuracy\"])\n",
        " \n",
        "# train the network\n",
        "print(\"[INFO] training model...\")\n",
        "H = model.fit(trainX, trainY,\n",
        "\tvalidation_data=(testX, testY),\n",
        "\tbatch_size=BS, epochs=NUM_EPOCHS)"
      ],
      "execution_count": 9,
      "outputs": [
        {
          "output_type": "stream",
          "text": [
            "[INFO] compiling model...\n",
            "[INFO] training model...\n",
            "Train on 100 samples, validate on 10000 samples\n",
            "Epoch 1/25\n",
            "100/100 [==============================] - 9s 91ms/step - loss: 3.6942 - accuracy: 0.1500 - val_loss: 2.1980 - val_accuracy: 0.2284\n",
            "Epoch 2/25\n",
            "100/100 [==============================] - 1s 14ms/step - loss: 1.4284 - accuracy: 0.5400 - val_loss: 2.3054 - val_accuracy: 0.2473\n",
            "Epoch 3/25\n",
            "100/100 [==============================] - 1s 14ms/step - loss: 0.6479 - accuracy: 0.8200 - val_loss: 3.9331 - val_accuracy: 0.3290\n",
            "Epoch 4/25\n",
            "100/100 [==============================] - 1s 14ms/step - loss: 0.4355 - accuracy: 0.8700 - val_loss: 6.2879 - val_accuracy: 0.3174\n",
            "Epoch 5/25\n",
            "100/100 [==============================] - 1s 14ms/step - loss: 0.2805 - accuracy: 0.9100 - val_loss: 8.0927 - val_accuracy: 0.2757\n",
            "Epoch 6/25\n",
            "100/100 [==============================] - 1s 14ms/step - loss: 0.1472 - accuracy: 0.9600 - val_loss: 8.1183 - val_accuracy: 0.2929\n",
            "Epoch 7/25\n",
            "100/100 [==============================] - 1s 14ms/step - loss: 0.1086 - accuracy: 0.9700 - val_loss: 7.6266 - val_accuracy: 0.3441\n",
            "Epoch 8/25\n",
            "100/100 [==============================] - 1s 14ms/step - loss: 0.0509 - accuracy: 0.9900 - val_loss: 6.9077 - val_accuracy: 0.3806\n",
            "Epoch 9/25\n",
            "100/100 [==============================] - 1s 14ms/step - loss: 0.0915 - accuracy: 0.9700 - val_loss: 5.6974 - val_accuracy: 0.4329\n",
            "Epoch 10/25\n",
            "100/100 [==============================] - 1s 14ms/step - loss: 0.0376 - accuracy: 0.9900 - val_loss: 4.5143 - val_accuracy: 0.4939\n",
            "Epoch 11/25\n",
            "100/100 [==============================] - 1s 14ms/step - loss: 0.0523 - accuracy: 0.9800 - val_loss: 3.5013 - val_accuracy: 0.5512\n",
            "Epoch 12/25\n",
            "100/100 [==============================] - 1s 14ms/step - loss: 0.0838 - accuracy: 0.9800 - val_loss: 2.7146 - val_accuracy: 0.5981\n",
            "Epoch 13/25\n",
            "100/100 [==============================] - 1s 14ms/step - loss: 0.0434 - accuracy: 1.0000 - val_loss: 2.1514 - val_accuracy: 0.6348\n",
            "Epoch 14/25\n",
            "100/100 [==============================] - 1s 14ms/step - loss: 0.0352 - accuracy: 0.9900 - val_loss: 1.8153 - val_accuracy: 0.6613\n",
            "Epoch 15/25\n",
            "100/100 [==============================] - 1s 14ms/step - loss: 0.0621 - accuracy: 0.9800 - val_loss: 1.6493 - val_accuracy: 0.6676\n",
            "Epoch 16/25\n",
            "100/100 [==============================] - 1s 14ms/step - loss: 0.0371 - accuracy: 1.0000 - val_loss: 1.5406 - val_accuracy: 0.6755\n",
            "Epoch 17/25\n",
            "100/100 [==============================] - 1s 14ms/step - loss: 0.0214 - accuracy: 1.0000 - val_loss: 1.4695 - val_accuracy: 0.6778\n",
            "Epoch 18/25\n",
            "100/100 [==============================] - 1s 14ms/step - loss: 0.0294 - accuracy: 0.9900 - val_loss: 1.4016 - val_accuracy: 0.6761\n",
            "Epoch 19/25\n",
            "100/100 [==============================] - 1s 14ms/step - loss: 0.0191 - accuracy: 1.0000 - val_loss: 1.3406 - val_accuracy: 0.6769\n",
            "Epoch 20/25\n",
            "100/100 [==============================] - 1s 14ms/step - loss: 0.0171 - accuracy: 1.0000 - val_loss: 1.3015 - val_accuracy: 0.6786\n",
            "Epoch 21/25\n",
            "100/100 [==============================] - 1s 14ms/step - loss: 0.0244 - accuracy: 1.0000 - val_loss: 1.2725 - val_accuracy: 0.6781\n",
            "Epoch 22/25\n",
            "100/100 [==============================] - 1s 15ms/step - loss: 0.0287 - accuracy: 0.9800 - val_loss: 1.2347 - val_accuracy: 0.6809\n",
            "Epoch 23/25\n",
            "100/100 [==============================] - 2s 15ms/step - loss: 0.0087 - accuracy: 1.0000 - val_loss: 1.2128 - val_accuracy: 0.6817\n",
            "Epoch 24/25\n",
            "100/100 [==============================] - 2s 15ms/step - loss: 0.0099 - accuracy: 1.0000 - val_loss: 1.2245 - val_accuracy: 0.6767\n",
            "Epoch 25/25\n",
            "100/100 [==============================] - 2s 15ms/step - loss: 0.0118 - accuracy: 1.0000 - val_loss: 1.2543 - val_accuracy: 0.6696\n"
          ],
          "name": "stdout"
        }
      ]
    },
    {
      "cell_type": "code",
      "metadata": {
        "id": "5UhP_pzAdc_c",
        "colab_type": "code",
        "outputId": "d6af02c5-5a80-481b-8d51-e25f6681036e",
        "colab": {
          "base_uri": "https://localhost:8080/",
          "height": 605
        }
      },
      "source": [
        "# make predictions on the test set\n",
        "preds = model.predict(testX)\n",
        " \n",
        "# show a nicely formatted classification report\n",
        "print(\"[INFO] evaluating network...\")\n",
        "print(classification_report(testY.argmax(axis=1), preds.argmax(axis=1),\n",
        "\ttarget_names=labelNames))\n",
        " \n",
        "# plot the training loss and accuracy\n",
        "N = NUM_EPOCHS\n",
        "plt.style.use(\"ggplot\")\n",
        "plt.figure()\n",
        "plt.plot(np.arange(0, N), H.history[\"loss\"], label=\"train_loss\")\n",
        "plt.plot(np.arange(0, N), H.history[\"val_loss\"], label=\"val_loss\")\n",
        "\n",
        "plt.title(\"Training Loss on Dataset\")\n",
        "plt.xlabel(\"Epoch #\")\n",
        "plt.ylabel(\"Loss\")\n",
        "plt.legend(loc=\"lower left\")\n",
        "plt.savefig(\"plot.png\")"
      ],
      "execution_count": 10,
      "outputs": [
        {
          "output_type": "stream",
          "text": [
            "[INFO] evaluating network...\n",
            "              precision    recall  f1-score   support\n",
            "\n",
            "           0       0.88      0.87      0.87       980\n",
            "           1       0.60      0.99      0.75      1135\n",
            "           2       0.85      0.42      0.56      1032\n",
            "           3       0.80      0.80      0.80      1010\n",
            "           4       0.44      0.91      0.59       982\n",
            "           5       0.91      0.13      0.23       892\n",
            "           6       0.88      0.65      0.75       958\n",
            "           7       0.91      0.77      0.83      1028\n",
            "           8       0.67      0.52      0.59       974\n",
            "           9       0.48      0.53      0.50      1009\n",
            "\n",
            "    accuracy                           0.67     10000\n",
            "   macro avg       0.74      0.66      0.65     10000\n",
            "weighted avg       0.74      0.67      0.65     10000\n",
            "\n"
          ],
          "name": "stdout"
        },
        {
          "output_type": "display_data",
          "data": {
            "image/png": "[encoded data removed]",
            "text/plain": [
              "<Figure size 432x288 with 1 Axes>"
            ]
          },
          "metadata": {
            "tags": []
          }
        }
      ]
    },
    {
      "cell_type": "code",
      "metadata": {
        "id": "k-zTSyRnf_y_",
        "colab_type": "code",
        "outputId": "43cea2ad-2a4a-41c9-f760-a067ecdb2305",
        "colab": {
          "base_uri": "https://localhost:8080/",
          "height": 34
        }
      },
      "source": [
        "import statistics\n",
        "statistics.mean(H.history[\"val_accuracy\"])"
      ],
      "execution_count": 11,
      "outputs": [
        {
          "output_type": "execute_result",
          "data": {
            "text/plain": [
              "0.529083999991417"
            ]
          },
          "metadata": {
            "tags": []
          },
          "execution_count": 11
        }
      ]
    },
    {
      "cell_type": "code",
      "metadata": {
        "id": "Z5EqgDxxHSie",
        "colab_type": "code",
        "outputId": "2ff211a7-d289-4ff4-e474-df854a1bdce5",
        "colab": {
          "base_uri": "https://localhost:8080/",
          "height": 299
        }
      },
      "source": [
        "plt.plot(np.arange(0, N), H.history[\"accuracy\"], label=\"train_acc\")\n",
        "plt.plot(np.arange(0, N), H.history[\"val_accuracy\"], label=\"val_acc\")\n",
        "\n",
        "plt.title(\"Training Accuracy on Mnist 100 sample\")\n",
        "plt.xlabel(\"Epoch #\")\n",
        "plt.ylabel(\"Accuracy\")\n",
        "plt.legend(loc=\"lower left\")\n",
        "plt.savefig(\"plot.png\")"
      ],
      "execution_count": 12,
      "outputs": [
        {
          "output_type": "display_data",
          "data": {
            "image/png": "[encoded data removed]",
            "text/plain": [
              "<Figure size 432x288 with 1 Axes>"
            ]
          },
          "metadata": {
            "tags": []
          }
        }
      ]
    },
    {
      "cell_type": "code",
      "metadata": {
        "id": "2I6EMVD-H25e",
        "colab_type": "code",
        "colab": {}
      },
      "source": [
        ""
      ],
      "execution_count": 0,
      "outputs": []
    }
  ]
}